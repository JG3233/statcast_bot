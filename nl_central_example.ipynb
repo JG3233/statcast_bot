{
 "cells": [
  {
   "cell_type": "markdown",
   "metadata": {},
   "source": [
    "# Exploring the NL Central with pybaseball\n",
    "\n",
    "A brief analysis and visualization of the NL Central division in 2022. Teams: Brewers, Cardinals, Cubs, Pirates, and Reds."
   ]
  },
  {
   "cell_type": "code",
   "execution_count": 1,
   "metadata": {
    "collapsed": true
   },
   "outputs": [],
   "source": [
    "import pybaseball as pyball\n",
    "import numpy as np\n",
    "import pandas as pd\n",
    "import matplotlib.pyplot as plt\n",
    "\n",
    "%matplotlib inline"
   ]
  },
  {
   "cell_type": "code",
   "execution_count": 2,
   "metadata": {
    "scrolled": true
   },
   "outputs": [],
   "source": [
    "# Get all NL Central Team Records for 2022\n",
    "year = 2022\n",
    "brewers = pyball.schedule_and_record(year, 'MIL')\n",
    "cardinals = pyball.schedule_and_record(year, 'STL')\n",
    "cubs = pyball.schedule_and_record(year, 'CHC')\n",
    "pirates = pyball.schedule_and_record(year, 'PIT')\n",
    "reds = pyball.schedule_and_record(year, 'CIN')"
   ]
  },
  {
   "cell_type": "markdown",
   "metadata": {},
   "source": [
    "## Summary Statistics\n",
    "A quick glance at the summary statistics for each team. Since this season is ongoing, the order is not important. Note that the Brewers offence is performing the best and the Reds the worst, as expected. However, Reds pitching has been a struggle, allowing 6 runs per game on average. The Cardinals are allowing the fewest at 3.4 compared to the elite pitching staff of the Brewers at 3.7.\n",
    "\n"
   ]
  },
  {
   "cell_type": "code",
   "execution_count": 3,
   "metadata": {
    "scrolled": false
   },
   "outputs": [
    {
     "data": {
      "text/html": [
       "<div>\n",
       "<style scoped>\n",
       "    .dataframe tbody tr th:only-of-type {\n",
       "        vertical-align: middle;\n",
       "    }\n",
       "\n",
       "    .dataframe tbody tr th {\n",
       "        vertical-align: top;\n",
       "    }\n",
       "\n",
       "    .dataframe thead th {\n",
       "        text-align: right;\n",
       "    }\n",
       "</style>\n",
       "<table border=\"1\" class=\"dataframe\">\n",
       "  <thead>\n",
       "    <tr style=\"text-align: right;\">\n",
       "      <th></th>\n",
       "      <th>R</th>\n",
       "      <th>RA</th>\n",
       "      <th>Inn</th>\n",
       "      <th>Rank</th>\n",
       "      <th>Attendance</th>\n",
       "      <th>Streak</th>\n",
       "    </tr>\n",
       "  </thead>\n",
       "  <tbody>\n",
       "    <tr>\n",
       "      <th>count</th>\n",
       "      <td>30.000000</td>\n",
       "      <td>30.000000</td>\n",
       "      <td>30.0</td>\n",
       "      <td>30.000000</td>\n",
       "      <td>30.000000</td>\n",
       "      <td>30.000000</td>\n",
       "    </tr>\n",
       "    <tr>\n",
       "      <th>mean</th>\n",
       "      <td>4.766667</td>\n",
       "      <td>3.733333</td>\n",
       "      <td>9.0</td>\n",
       "      <td>2.066667</td>\n",
       "      <td>25837.266667</td>\n",
       "      <td>0.966667</td>\n",
       "    </tr>\n",
       "    <tr>\n",
       "      <th>std</th>\n",
       "      <td>4.014485</td>\n",
       "      <td>2.827614</td>\n",
       "      <td>0.0</td>\n",
       "      <td>1.284747</td>\n",
       "      <td>10289.776942</td>\n",
       "      <td>2.157318</td>\n",
       "    </tr>\n",
       "    <tr>\n",
       "      <th>min</th>\n",
       "      <td>0.000000</td>\n",
       "      <td>0.000000</td>\n",
       "      <td>9.0</td>\n",
       "      <td>1.000000</td>\n",
       "      <td>8331.000000</td>\n",
       "      <td>-3.000000</td>\n",
       "    </tr>\n",
       "    <tr>\n",
       "      <th>25%</th>\n",
       "      <td>2.000000</td>\n",
       "      <td>2.000000</td>\n",
       "      <td>9.0</td>\n",
       "      <td>1.000000</td>\n",
       "      <td>21267.500000</td>\n",
       "      <td>-1.000000</td>\n",
       "    </tr>\n",
       "    <tr>\n",
       "      <th>50%</th>\n",
       "      <td>4.500000</td>\n",
       "      <td>3.000000</td>\n",
       "      <td>9.0</td>\n",
       "      <td>1.500000</td>\n",
       "      <td>26265.500000</td>\n",
       "      <td>1.000000</td>\n",
       "    </tr>\n",
       "    <tr>\n",
       "      <th>75%</th>\n",
       "      <td>6.000000</td>\n",
       "      <td>4.750000</td>\n",
       "      <td>9.0</td>\n",
       "      <td>3.000000</td>\n",
       "      <td>34548.500000</td>\n",
       "      <td>2.750000</td>\n",
       "    </tr>\n",
       "    <tr>\n",
       "      <th>max</th>\n",
       "      <td>18.000000</td>\n",
       "      <td>10.000000</td>\n",
       "      <td>9.0</td>\n",
       "      <td>5.000000</td>\n",
       "      <td>44461.000000</td>\n",
       "      <td>5.000000</td>\n",
       "    </tr>\n",
       "  </tbody>\n",
       "</table>\n",
       "</div>"
      ],
      "text/plain": [
       "               R         RA   Inn       Rank    Attendance     Streak\n",
       "count  30.000000  30.000000  30.0  30.000000     30.000000  30.000000\n",
       "mean    4.766667   3.733333   9.0   2.066667  25837.266667   0.966667\n",
       "std     4.014485   2.827614   0.0   1.284747  10289.776942   2.157318\n",
       "min     0.000000   0.000000   9.0   1.000000   8331.000000  -3.000000\n",
       "25%     2.000000   2.000000   9.0   1.000000  21267.500000  -1.000000\n",
       "50%     4.500000   3.000000   9.0   1.500000  26265.500000   1.000000\n",
       "75%     6.000000   4.750000   9.0   3.000000  34548.500000   2.750000\n",
       "max    18.000000  10.000000   9.0   5.000000  44461.000000   5.000000"
      ]
     },
     "execution_count": 3,
     "metadata": {},
     "output_type": "execute_result"
    }
   ],
   "source": [
    "brewers.describe()"
   ]
  },
  {
   "cell_type": "code",
   "execution_count": 4,
   "metadata": {},
   "outputs": [
    {
     "data": {
      "text/html": [
       "<div>\n",
       "<style scoped>\n",
       "    .dataframe tbody tr th:only-of-type {\n",
       "        vertical-align: middle;\n",
       "    }\n",
       "\n",
       "    .dataframe tbody tr th {\n",
       "        vertical-align: top;\n",
       "    }\n",
       "\n",
       "    .dataframe thead th {\n",
       "        text-align: right;\n",
       "    }\n",
       "</style>\n",
       "<table border=\"1\" class=\"dataframe\">\n",
       "  <thead>\n",
       "    <tr style=\"text-align: right;\">\n",
       "      <th></th>\n",
       "      <th>R</th>\n",
       "      <th>RA</th>\n",
       "      <th>Inn</th>\n",
       "      <th>Rank</th>\n",
       "      <th>Attendance</th>\n",
       "      <th>Streak</th>\n",
       "    </tr>\n",
       "  </thead>\n",
       "  <tbody>\n",
       "    <tr>\n",
       "      <th>count</th>\n",
       "      <td>28.000000</td>\n",
       "      <td>28.000000</td>\n",
       "      <td>28.000000</td>\n",
       "      <td>28.000000</td>\n",
       "      <td>28.000000</td>\n",
       "      <td>28.000000</td>\n",
       "    </tr>\n",
       "    <tr>\n",
       "      <th>mean</th>\n",
       "      <td>3.892857</td>\n",
       "      <td>4.392857</td>\n",
       "      <td>8.928571</td>\n",
       "      <td>2.785714</td>\n",
       "      <td>31848.964286</td>\n",
       "      <td>-0.964286</td>\n",
       "    </tr>\n",
       "    <tr>\n",
       "      <th>std</th>\n",
       "      <td>3.993878</td>\n",
       "      <td>2.922952</td>\n",
       "      <td>0.604218</td>\n",
       "      <td>1.166100</td>\n",
       "      <td>6331.793658</td>\n",
       "      <td>1.933757</td>\n",
       "    </tr>\n",
       "    <tr>\n",
       "      <th>min</th>\n",
       "      <td>0.000000</td>\n",
       "      <td>0.000000</td>\n",
       "      <td>6.000000</td>\n",
       "      <td>1.000000</td>\n",
       "      <td>9122.000000</td>\n",
       "      <td>-5.000000</td>\n",
       "    </tr>\n",
       "    <tr>\n",
       "      <th>25%</th>\n",
       "      <td>1.750000</td>\n",
       "      <td>2.750000</td>\n",
       "      <td>9.000000</td>\n",
       "      <td>2.000000</td>\n",
       "      <td>28893.250000</td>\n",
       "      <td>-2.000000</td>\n",
       "    </tr>\n",
       "    <tr>\n",
       "      <th>50%</th>\n",
       "      <td>3.000000</td>\n",
       "      <td>4.000000</td>\n",
       "      <td>9.000000</td>\n",
       "      <td>3.000000</td>\n",
       "      <td>32599.500000</td>\n",
       "      <td>-1.000000</td>\n",
       "    </tr>\n",
       "    <tr>\n",
       "      <th>75%</th>\n",
       "      <td>5.000000</td>\n",
       "      <td>6.000000</td>\n",
       "      <td>9.000000</td>\n",
       "      <td>4.000000</td>\n",
       "      <td>35685.250000</td>\n",
       "      <td>1.000000</td>\n",
       "    </tr>\n",
       "    <tr>\n",
       "      <th>max</th>\n",
       "      <td>21.000000</td>\n",
       "      <td>11.000000</td>\n",
       "      <td>10.000000</td>\n",
       "      <td>4.000000</td>\n",
       "      <td>41595.000000</td>\n",
       "      <td>2.000000</td>\n",
       "    </tr>\n",
       "  </tbody>\n",
       "</table>\n",
       "</div>"
      ],
      "text/plain": [
       "               R         RA        Inn       Rank    Attendance     Streak\n",
       "count  28.000000  28.000000  28.000000  28.000000     28.000000  28.000000\n",
       "mean    3.892857   4.392857   8.928571   2.785714  31848.964286  -0.964286\n",
       "std     3.993878   2.922952   0.604218   1.166100   6331.793658   1.933757\n",
       "min     0.000000   0.000000   6.000000   1.000000   9122.000000  -5.000000\n",
       "25%     1.750000   2.750000   9.000000   2.000000  28893.250000  -2.000000\n",
       "50%     3.000000   4.000000   9.000000   3.000000  32599.500000  -1.000000\n",
       "75%     5.000000   6.000000   9.000000   4.000000  35685.250000   1.000000\n",
       "max    21.000000  11.000000  10.000000   4.000000  41595.000000   2.000000"
      ]
     },
     "execution_count": 4,
     "metadata": {},
     "output_type": "execute_result"
    }
   ],
   "source": [
    "cubs.describe()"
   ]
  },
  {
   "cell_type": "code",
   "execution_count": 5,
   "metadata": {},
   "outputs": [
    {
     "data": {
      "text/html": [
       "<div>\n",
       "<style scoped>\n",
       "    .dataframe tbody tr th:only-of-type {\n",
       "        vertical-align: middle;\n",
       "    }\n",
       "\n",
       "    .dataframe tbody tr th {\n",
       "        vertical-align: top;\n",
       "    }\n",
       "\n",
       "    .dataframe thead th {\n",
       "        text-align: right;\n",
       "    }\n",
       "</style>\n",
       "<table border=\"1\" class=\"dataframe\">\n",
       "  <thead>\n",
       "    <tr style=\"text-align: right;\">\n",
       "      <th></th>\n",
       "      <th>R</th>\n",
       "      <th>RA</th>\n",
       "      <th>Inn</th>\n",
       "      <th>Rank</th>\n",
       "      <th>Attendance</th>\n",
       "      <th>Streak</th>\n",
       "    </tr>\n",
       "  </thead>\n",
       "  <tbody>\n",
       "    <tr>\n",
       "      <th>count</th>\n",
       "      <td>28.000000</td>\n",
       "      <td>28.000000</td>\n",
       "      <td>28.0</td>\n",
       "      <td>28.000000</td>\n",
       "      <td>28.000000</td>\n",
       "      <td>28.000000</td>\n",
       "    </tr>\n",
       "    <tr>\n",
       "      <th>mean</th>\n",
       "      <td>4.321429</td>\n",
       "      <td>3.464286</td>\n",
       "      <td>9.0</td>\n",
       "      <td>1.500000</td>\n",
       "      <td>30249.642857</td>\n",
       "      <td>0.285714</td>\n",
       "    </tr>\n",
       "    <tr>\n",
       "      <th>std</th>\n",
       "      <td>3.255236</td>\n",
       "      <td>3.072966</td>\n",
       "      <td>0.0</td>\n",
       "      <td>0.509175</td>\n",
       "      <td>11524.832333</td>\n",
       "      <td>1.629750</td>\n",
       "    </tr>\n",
       "    <tr>\n",
       "      <th>min</th>\n",
       "      <td>0.000000</td>\n",
       "      <td>0.000000</td>\n",
       "      <td>9.0</td>\n",
       "      <td>1.000000</td>\n",
       "      <td>8475.000000</td>\n",
       "      <td>-3.000000</td>\n",
       "    </tr>\n",
       "    <tr>\n",
       "      <th>25%</th>\n",
       "      <td>1.750000</td>\n",
       "      <td>1.000000</td>\n",
       "      <td>9.0</td>\n",
       "      <td>1.000000</td>\n",
       "      <td>22891.250000</td>\n",
       "      <td>-1.000000</td>\n",
       "    </tr>\n",
       "    <tr>\n",
       "      <th>50%</th>\n",
       "      <td>4.000000</td>\n",
       "      <td>3.000000</td>\n",
       "      <td>9.0</td>\n",
       "      <td>1.500000</td>\n",
       "      <td>32839.500000</td>\n",
       "      <td>1.000000</td>\n",
       "    </tr>\n",
       "    <tr>\n",
       "      <th>75%</th>\n",
       "      <td>7.000000</td>\n",
       "      <td>5.000000</td>\n",
       "      <td>9.0</td>\n",
       "      <td>2.000000</td>\n",
       "      <td>40120.750000</td>\n",
       "      <td>2.000000</td>\n",
       "    </tr>\n",
       "    <tr>\n",
       "      <th>max</th>\n",
       "      <td>10.000000</td>\n",
       "      <td>13.000000</td>\n",
       "      <td>9.0</td>\n",
       "      <td>2.000000</td>\n",
       "      <td>46256.000000</td>\n",
       "      <td>3.000000</td>\n",
       "    </tr>\n",
       "  </tbody>\n",
       "</table>\n",
       "</div>"
      ],
      "text/plain": [
       "               R         RA   Inn       Rank    Attendance     Streak\n",
       "count  28.000000  28.000000  28.0  28.000000     28.000000  28.000000\n",
       "mean    4.321429   3.464286   9.0   1.500000  30249.642857   0.285714\n",
       "std     3.255236   3.072966   0.0   0.509175  11524.832333   1.629750\n",
       "min     0.000000   0.000000   9.0   1.000000   8475.000000  -3.000000\n",
       "25%     1.750000   1.000000   9.0   1.000000  22891.250000  -1.000000\n",
       "50%     4.000000   3.000000   9.0   1.500000  32839.500000   1.000000\n",
       "75%     7.000000   5.000000   9.0   2.000000  40120.750000   2.000000\n",
       "max    10.000000  13.000000   9.0   2.000000  46256.000000   3.000000"
      ]
     },
     "execution_count": 5,
     "metadata": {},
     "output_type": "execute_result"
    }
   ],
   "source": [
    "cardinals.describe()"
   ]
  },
  {
   "cell_type": "code",
   "execution_count": 6,
   "metadata": {},
   "outputs": [
    {
     "data": {
      "text/html": [
       "<div>\n",
       "<style scoped>\n",
       "    .dataframe tbody tr th:only-of-type {\n",
       "        vertical-align: middle;\n",
       "    }\n",
       "\n",
       "    .dataframe tbody tr th {\n",
       "        vertical-align: top;\n",
       "    }\n",
       "\n",
       "    .dataframe thead th {\n",
       "        text-align: right;\n",
       "    }\n",
       "</style>\n",
       "<table border=\"1\" class=\"dataframe\">\n",
       "  <thead>\n",
       "    <tr style=\"text-align: right;\">\n",
       "      <th></th>\n",
       "      <th>R</th>\n",
       "      <th>RA</th>\n",
       "      <th>Inn</th>\n",
       "      <th>Rank</th>\n",
       "      <th>Attendance</th>\n",
       "      <th>Streak</th>\n",
       "    </tr>\n",
       "  </thead>\n",
       "  <tbody>\n",
       "    <tr>\n",
       "      <th>count</th>\n",
       "      <td>28.000000</td>\n",
       "      <td>28.000000</td>\n",
       "      <td>28.000000</td>\n",
       "      <td>28.000000</td>\n",
       "      <td>27.000000</td>\n",
       "      <td>28.000000</td>\n",
       "    </tr>\n",
       "    <tr>\n",
       "      <th>mean</th>\n",
       "      <td>3.821429</td>\n",
       "      <td>5.285714</td>\n",
       "      <td>9.035714</td>\n",
       "      <td>3.321429</td>\n",
       "      <td>20040.703704</td>\n",
       "      <td>-0.428571</td>\n",
       "    </tr>\n",
       "    <tr>\n",
       "      <th>std</th>\n",
       "      <td>2.735955</td>\n",
       "      <td>3.989404</td>\n",
       "      <td>0.188982</td>\n",
       "      <td>0.669636</td>\n",
       "      <td>12466.707593</td>\n",
       "      <td>1.665079</td>\n",
       "    </tr>\n",
       "    <tr>\n",
       "      <th>min</th>\n",
       "      <td>0.000000</td>\n",
       "      <td>1.000000</td>\n",
       "      <td>9.000000</td>\n",
       "      <td>2.000000</td>\n",
       "      <td>8331.000000</td>\n",
       "      <td>-4.000000</td>\n",
       "    </tr>\n",
       "    <tr>\n",
       "      <th>25%</th>\n",
       "      <td>2.000000</td>\n",
       "      <td>3.000000</td>\n",
       "      <td>9.000000</td>\n",
       "      <td>3.000000</td>\n",
       "      <td>8928.500000</td>\n",
       "      <td>-1.250000</td>\n",
       "    </tr>\n",
       "    <tr>\n",
       "      <th>50%</th>\n",
       "      <td>3.000000</td>\n",
       "      <td>4.000000</td>\n",
       "      <td>9.000000</td>\n",
       "      <td>3.000000</td>\n",
       "      <td>17623.000000</td>\n",
       "      <td>-1.000000</td>\n",
       "    </tr>\n",
       "    <tr>\n",
       "      <th>75%</th>\n",
       "      <td>6.000000</td>\n",
       "      <td>6.250000</td>\n",
       "      <td>9.000000</td>\n",
       "      <td>4.000000</td>\n",
       "      <td>26696.000000</td>\n",
       "      <td>1.000000</td>\n",
       "    </tr>\n",
       "    <tr>\n",
       "      <th>max</th>\n",
       "      <td>9.000000</td>\n",
       "      <td>21.000000</td>\n",
       "      <td>10.000000</td>\n",
       "      <td>5.000000</td>\n",
       "      <td>46256.000000</td>\n",
       "      <td>2.000000</td>\n",
       "    </tr>\n",
       "  </tbody>\n",
       "</table>\n",
       "</div>"
      ],
      "text/plain": [
       "               R         RA        Inn       Rank    Attendance     Streak\n",
       "count  28.000000  28.000000  28.000000  28.000000     27.000000  28.000000\n",
       "mean    3.821429   5.285714   9.035714   3.321429  20040.703704  -0.428571\n",
       "std     2.735955   3.989404   0.188982   0.669636  12466.707593   1.665079\n",
       "min     0.000000   1.000000   9.000000   2.000000   8331.000000  -4.000000\n",
       "25%     2.000000   3.000000   9.000000   3.000000   8928.500000  -1.250000\n",
       "50%     3.000000   4.000000   9.000000   3.000000  17623.000000  -1.000000\n",
       "75%     6.000000   6.250000   9.000000   4.000000  26696.000000   1.000000\n",
       "max     9.000000  21.000000  10.000000   5.000000  46256.000000   2.000000"
      ]
     },
     "execution_count": 6,
     "metadata": {},
     "output_type": "execute_result"
    }
   ],
   "source": [
    "pirates.describe()"
   ]
  },
  {
   "cell_type": "code",
   "execution_count": 7,
   "metadata": {},
   "outputs": [
    {
     "data": {
      "text/html": [
       "<div>\n",
       "<style scoped>\n",
       "    .dataframe tbody tr th:only-of-type {\n",
       "        vertical-align: middle;\n",
       "    }\n",
       "\n",
       "    .dataframe tbody tr th {\n",
       "        vertical-align: top;\n",
       "    }\n",
       "\n",
       "    .dataframe thead th {\n",
       "        text-align: right;\n",
       "    }\n",
       "</style>\n",
       "<table border=\"1\" class=\"dataframe\">\n",
       "  <thead>\n",
       "    <tr style=\"text-align: right;\">\n",
       "      <th></th>\n",
       "      <th>R</th>\n",
       "      <th>RA</th>\n",
       "      <th>Inn</th>\n",
       "      <th>Rank</th>\n",
       "      <th>Attendance</th>\n",
       "      <th>Streak</th>\n",
       "    </tr>\n",
       "  </thead>\n",
       "  <tbody>\n",
       "    <tr>\n",
       "      <th>count</th>\n",
       "      <td>29.000000</td>\n",
       "      <td>29.000000</td>\n",
       "      <td>29.0</td>\n",
       "      <td>29.000000</td>\n",
       "      <td>29.000000</td>\n",
       "      <td>28.000000</td>\n",
       "    </tr>\n",
       "    <tr>\n",
       "      <th>mean</th>\n",
       "      <td>3.793103</td>\n",
       "      <td>6.344828</td>\n",
       "      <td>9.0</td>\n",
       "      <td>4.586207</td>\n",
       "      <td>28364.137931</td>\n",
       "      <td>-3.821429</td>\n",
       "    </tr>\n",
       "    <tr>\n",
       "      <th>std</th>\n",
       "      <td>2.554818</td>\n",
       "      <td>3.538319</td>\n",
       "      <td>0.0</td>\n",
       "      <td>0.982607</td>\n",
       "      <td>13387.169363</td>\n",
       "      <td>3.830226</td>\n",
       "    </tr>\n",
       "    <tr>\n",
       "      <th>min</th>\n",
       "      <td>0.000000</td>\n",
       "      <td>1.000000</td>\n",
       "      <td>9.0</td>\n",
       "      <td>1.000000</td>\n",
       "      <td>9192.000000</td>\n",
       "      <td>-11.000000</td>\n",
       "    </tr>\n",
       "    <tr>\n",
       "      <th>25%</th>\n",
       "      <td>2.000000</td>\n",
       "      <td>4.000000</td>\n",
       "      <td>9.0</td>\n",
       "      <td>5.000000</td>\n",
       "      <td>20470.000000</td>\n",
       "      <td>-7.000000</td>\n",
       "    </tr>\n",
       "    <tr>\n",
       "      <th>50%</th>\n",
       "      <td>4.000000</td>\n",
       "      <td>6.000000</td>\n",
       "      <td>9.0</td>\n",
       "      <td>5.000000</td>\n",
       "      <td>28598.000000</td>\n",
       "      <td>-3.500000</td>\n",
       "    </tr>\n",
       "    <tr>\n",
       "      <th>75%</th>\n",
       "      <td>5.000000</td>\n",
       "      <td>9.000000</td>\n",
       "      <td>9.0</td>\n",
       "      <td>5.000000</td>\n",
       "      <td>40234.000000</td>\n",
       "      <td>-1.000000</td>\n",
       "    </tr>\n",
       "    <tr>\n",
       "      <th>max</th>\n",
       "      <td>10.000000</td>\n",
       "      <td>18.000000</td>\n",
       "      <td>9.0</td>\n",
       "      <td>5.000000</td>\n",
       "      <td>52995.000000</td>\n",
       "      <td>2.000000</td>\n",
       "    </tr>\n",
       "  </tbody>\n",
       "</table>\n",
       "</div>"
      ],
      "text/plain": [
       "               R         RA   Inn       Rank    Attendance     Streak\n",
       "count  29.000000  29.000000  29.0  29.000000     29.000000  28.000000\n",
       "mean    3.793103   6.344828   9.0   4.586207  28364.137931  -3.821429\n",
       "std     2.554818   3.538319   0.0   0.982607  13387.169363   3.830226\n",
       "min     0.000000   1.000000   9.0   1.000000   9192.000000 -11.000000\n",
       "25%     2.000000   4.000000   9.0   5.000000  20470.000000  -7.000000\n",
       "50%     4.000000   6.000000   9.0   5.000000  28598.000000  -3.500000\n",
       "75%     5.000000   9.000000   9.0   5.000000  40234.000000  -1.000000\n",
       "max    10.000000  18.000000   9.0   5.000000  52995.000000   2.000000"
      ]
     },
     "execution_count": 7,
     "metadata": {},
     "output_type": "execute_result"
    }
   ],
   "source": [
    "reds.describe()"
   ]
  },
  {
   "cell_type": "markdown",
   "metadata": {},
   "source": [
    "## A look at Wins, Win Percentages, and Games Back\n",
    "Comparing the wins, win percentages, and games back for each team of the NL Central"
   ]
  },
  {
   "cell_type": "markdown",
   "metadata": {},
   "source": [
    "First we gather each team's Wins, Losses, and Win Percentages at the time of each game"
   ]
  },
  {
   "cell_type": "code",
   "execution_count": 8,
   "metadata": {},
   "outputs": [],
   "source": [
    "# Gets wins-to-date, losses-to-date, and win_percent-to-date for each team\n",
    "brewers['Wins'] = np.where(brewers['W/L']=='W', 1, (np.where(brewers['W/L']=='W-wo', 1, 0))).cumsum()\n",
    "brewers['Losses'] = np.where(brewers['W/L']=='L', 1, (np.where(brewers['W/L']=='L-wo', 1, 0))).cumsum()\n",
    "brewers['Win_Percentage'] = brewers['Wins'] / (brewers['Wins'] + brewers['Losses'])\n",
    "\n",
    "cubs['Wins'] = np.where(cubs['W/L']=='W', 1, (np.where(cubs['W/L']=='W-wo', 1, 0))).cumsum()\n",
    "cubs['Losses'] = np.where(cubs['W/L']=='L', 1, (np.where(cubs['W/L']=='L-wo', 1, 0))).cumsum()\n",
    "cubs['Win_Percentage'] = cubs['Wins'] / (cubs['Wins'] + cubs['Losses'])\n",
    "\n",
    "cardinals['Wins'] = np.where(cardinals['W/L']=='W', 1, (np.where(cardinals['W/L']=='W-wo', 1, 0))).cumsum()\n",
    "cardinals['Losses'] = np.where(cardinals['W/L']=='L', 1, (np.where(cardinals['W/L']=='L-wo', 1, 0))).cumsum()\n",
    "cardinals['Win_Percentage'] = cardinals['Wins'] / (cardinals['Wins'] + cardinals['Losses'])\n",
    "\n",
    "pirates['Wins'] = np.where(pirates['W/L']=='W', 1, (np.where(pirates['W/L']=='W-wo', 1, 0))).cumsum()\n",
    "pirates['Losses'] = np.where(pirates['W/L']=='L', 1, (np.where(pirates['W/L']=='L-wo', 1, 0))).cumsum()\n",
    "pirates['Win_Percentage'] = pirates['Wins'] / (pirates['Wins'] + pirates['Losses'])\n",
    "\n",
    "reds['Wins'] = np.where(reds['W/L']=='W', 1, (np.where(reds['W/L']=='W-wo', 1, 0))).cumsum()\n",
    "reds['Losses'] = np.where(reds['W/L']=='L', 1, (np.where(reds['W/L']=='L-wo', 1, 0))).cumsum()\n",
    "reds['Win_Percentage'] = reds['Wins'] / (reds['Wins'] + reds['Losses'])"
   ]
  },
  {
   "cell_type": "markdown",
   "metadata": {},
   "source": [
    "### Graphing Wins and Win Percentages\n",
    "Here we can see that the win tracking is quite blocky early into the season, but the Brewers are jumping out to the lead with the Cardinals hanging in there. The Pirates, Cubs, and Reds are all struggling to keep up."
   ]
  },
  {
   "cell_type": "code",
   "execution_count": 10,
   "metadata": {
    "scrolled": true
   },
   "outputs": [
    {
     "data": {
      "text/plain": [
       "Text(0.5, 1.0, 'NL Central Wins Comparison (2022)')"
      ]
     },
     "execution_count": 10,
     "metadata": {},
     "output_type": "execute_result"
    },
    {
     "data": {
      "image/png": "[encoded data removed]",
      "text/plain": [
       "<Figure size 576x432 with 1 Axes>"
      ]
     },
     "metadata": {
      "needs_background": "light"
     },
     "output_type": "display_data"
    }
   ],
   "source": [
    "# Graph Wins Comparison #\n",
    "plt.rcParams[\"figure.figsize\"] = (8,6)\n",
    "\n",
    "plt.plot(brewers['Wins'], label='Brewers', c='navy')\n",
    "plt.plot(cardinals['Wins'], label='Cardinals', c='#b30000')\n",
    "plt.plot(cubs['Wins'], label='Cubs', c='blue')\n",
    "plt.plot(pirates['Wins'], label='Pirates', c='gold')\n",
    "plt.plot(reds['Wins'], label='Reds', c='red')\n",
    "\n",
    "plt.xticks(np.arange(0, len(brewers.index), step=10))\n",
    "plt.xlabel('Game')\n",
    "plt.ylabel('Wins')\n",
    "\n",
    "plt.legend(loc='lower right')\n",
    "\n",
    "plt.title(\"NL Central Wins Comparison ({})\".format(year))"
   ]
  },
  {
   "cell_type": "code",
   "execution_count": 11,
   "metadata": {},
   "outputs": [
    {
     "data": {
      "text/plain": [
       "Text(0.5, 1.0, 'NL Central Win Percentage Comparison (2022)')"
      ]
     },
     "execution_count": 11,
     "metadata": {},
     "output_type": "execute_result"
    },
    {
     "data": {
      "image/png": "[encoded data removed]",
      "text/plain": [
       "<Figure size 576x432 with 1 Axes>"
      ]
     },
     "metadata": {
      "needs_background": "light"
     },
     "output_type": "display_data"
    }
   ],
   "source": [
    "# Graph Win Percentage Comparison #\n",
    "plt.rcParams[\"figure.figsize\"] = (8,6)\n",
    "\n",
    "plt.plot(brewers['Win_Percentage'], label='Brewers', c='navy')\n",
    "plt.plot(cardinals['Win_Percentage'], label='Cardinals', c='#b30000')\n",
    "plt.plot(cubs['Win_Percentage'], label='Cubs', c='blue')\n",
    "plt.plot(pirates['Win_Percentage'], label='Pirates', c='gold')\n",
    "plt.plot(reds['Win_Percentage'], label='Reds', c='red')\n",
    "\n",
    "plt.xticks(np.arange(0, len(brewers.index), step=10))\n",
    "plt.xlabel('Game')\n",
    "plt.ylabel('Win Percentage')\n",
    "\n",
    "plt.legend(loc='lower right')\n",
    "\n",
    "plt.title(\"NL Central Win Percentage Comparison ({})\".format(year))"
   ]
  },
  {
   "cell_type": "markdown",
   "metadata": {},
   "source": [
    "### Graphing Games Back"
   ]
  },
  {
   "cell_type": "markdown",
   "metadata": {},
   "source": [
    "First we create a modified column to numerically represent 'Games Back'"
   ]
  },
  {
   "cell_type": "code",
   "execution_count": 12,
   "metadata": {
    "collapsed": true
   },
   "outputs": [],
   "source": [
    "# Insert new column called 'int_GB' that represents GB as either negative (meaning behind) or 0.0 meaning in first or tied for first\n",
    "def modify_gb(gb):\n",
    "    if gb == 'Tied':\n",
    "        gb = 0.0\n",
    "    elif 'up' in gb:\n",
    "        gb = 0.0 # float(gb.replace('up ', ''))\n",
    "    else:\n",
    "        gb = -float(gb)\n",
    "    \n",
    "    return gb\n",
    "    \n",
    "brewers['int_GB'] = brewers['GB'].dropna().apply(modify_gb)\n",
    "cardinals['int_GB'] = cardinals['GB'].dropna().apply(modify_gb)\n",
    "cubs['int_GB'] = cubs['GB'].dropna().apply(modify_gb)\n",
    "pirates['int_GB'] = pirates['GB'].dropna().apply(modify_gb)\n",
    "reds['int_GB'] = reds['GB'].dropna().apply(modify_gb)"
   ]
  },
  {
   "cell_type": "markdown",
   "metadata": {},
   "source": [
    "#### What the Graph Shows\n",
    "Graphing 'Games Back' gives an even clearer image of how the NL Central competition is shaping up. \n",
    "\n",
    "The Cardinals are keeping pace with the Brewers in spurts, but the most recent losses for the Brewers resulted in a GB reduction. Clearly, there is a long way to go."
   ]
  },
  {
   "cell_type": "code",
   "execution_count": 13,
   "metadata": {},
   "outputs": [
    {
     "data": {
      "text/plain": [
       "<matplotlib.legend.Legend at 0x7f80a8c53970>"
      ]
     },
     "execution_count": 13,
     "metadata": {},
     "output_type": "execute_result"
    },
    {
     "data": {
      "image/png": "[encoded data removed]",
      "text/plain": [
       "<Figure size 576x432 with 1 Axes>"
      ]
     },
     "metadata": {
      "needs_background": "light"
     },
     "output_type": "display_data"
    }
   ],
   "source": [
    "# Graph NL Central Games Back Comparison #\n",
    "plt.rcParams[\"figure.figsize\"] = (8,6)\n",
    "\n",
    "plt.plot(brewers['int_GB'], label='Brewers', c='navy')\n",
    "plt.plot(cardinals['int_GB'], label='Cardinals', c='#b30000')\n",
    "plt.plot(cubs['int_GB'], label='Cubs', c='blue')\n",
    "plt.plot(pirates['int_GB'], label='Pirates', c='gold')\n",
    "plt.plot(reds['int_GB'], label='Reds', c='red')\n",
    "\n",
    "plt.xticks(np.arange(0, len(brewers.index), step=10))\n",
    "plt.yticks(np.arange(0, -30, step=-2))\n",
    "plt.xlabel('Game')\n",
    "plt.ylabel('Games Back (in negative)')\n",
    "\n",
    "plt.title(\"NL Central Games Back Comparison ({})\".format(year))\n",
    "plt.legend(loc='lower left')"
   ]
  },
  {
   "cell_type": "markdown",
   "metadata": {},
   "source": [
    "## Graphing Total Runs and Runs Allowed"
   ]
  },
  {
   "cell_type": "markdown",
   "metadata": {},
   "source": [
    "First we create new columns for Total Runs, and Total Runs Allowed"
   ]
  },
  {
   "cell_type": "code",
   "execution_count": 14,
   "metadata": {
    "collapsed": true
   },
   "outputs": [],
   "source": [
    "# Get total runs-to-date and total runs_allowed-to-date for each team\n",
    "brewers['Total_Runs'] = brewers['R'].cumsum()\n",
    "brewers['Total_RA'] = brewers['RA'].cumsum()\n",
    "\n",
    "cubs['Total_Runs'] = cubs['R'].cumsum()\n",
    "cubs['Total_RA'] = cubs['RA'].cumsum()\n",
    "\n",
    "cardinals['Total_Runs'] = cardinals['R'].cumsum()\n",
    "cardinals['Total_RA'] = cardinals['RA'].cumsum()\n",
    "\n",
    "pirates['Total_Runs'] = pirates['R'].cumsum()\n",
    "pirates['Total_RA'] = pirates['RA'].cumsum()\n",
    "\n",
    "reds['Total_Runs'] = reds['R'].cumsum()\n",
    "reds['Total_RA'] = reds['RA'].cumsum()"
   ]
  },
  {
   "cell_type": "markdown",
   "metadata": {},
   "source": [
    "#### What the Graph Shows\n",
    "Graphing Runs and Runs Allowed illustrates some of the causal factors in each teams divisional rank.\n",
    "\n",
    "The Brewers offense has separated themselves over the last 5-10 games in terms of runs scored. Interestingly, the rest of the pack is rather bunched up at the moment. The Cardinals pitching staff was off to a great start, and has managed to stay just ahead of the Brewers after some recent high scoring affairs in Milwaukee."
   ]
  },
  {
   "cell_type": "code",
   "execution_count": 15,
   "metadata": {},
   "outputs": [
    {
     "data": {
      "text/plain": [
       "<matplotlib.legend.Legend at 0x7f80c8daa2b0>"
      ]
     },
     "execution_count": 15,
     "metadata": {},
     "output_type": "execute_result"
    },
    {
     "data": {
      "image/png": "[encoded data removed]",
      "text/plain": [
       "<Figure size 1152x576 with 2 Axes>"
      ]
     },
     "metadata": {
      "needs_background": "light"
     },
     "output_type": "display_data"
    }
   ],
   "source": [
    "# Graph Runs and Runs Allowed Comparisons #\n",
    "plt.rcParams[\"figure.figsize\"] = (16,8)\n",
    "\n",
    "plt.subplot(1,2,1)\n",
    "plt.plot(brewers['Total_Runs'], label='Brewers', c='navy')\n",
    "plt.plot(cardinals['Total_Runs'], label='Cardinals', c='#b30000')\n",
    "plt.plot(cubs['Total_Runs'], label='Cubs', c='blue')\n",
    "plt.plot(pirates['Total_Runs'], label='Pirates', c='gold')\n",
    "plt.plot(reds['Total_Runs'], label='Reds', c='red')\n",
    "\n",
    "plt.xticks(np.arange(0, len(brewers.index), step=10))\n",
    "plt.xlabel('Game')\n",
    "plt.ylabel('Runs')\n",
    "\n",
    "plt.title(\"NL Central Runs Comparison ({})\".format(year))\n",
    "plt.legend(loc='lower right')\n",
    "\n",
    "plt.subplot(1,2,2)\n",
    "plt.plot(brewers['Total_RA'], label='Brewers', c='navy')\n",
    "plt.plot(cardinals['Total_RA'], label='Cardinals', c='#b30000')\n",
    "plt.plot(cubs['Total_RA'], label='Cubs', c='blue')\n",
    "plt.plot(pirates['Total_RA'], label='Pirates', c='gold')\n",
    "plt.plot(reds['Total_RA'], label='Reds', c='red')\n",
    "\n",
    "plt.xticks(np.arange(0, len(brewers.index), step=10))\n",
    "plt.xlabel('Game')\n",
    "plt.ylabel('Runs Allowed')\n",
    "\n",
    "plt.title(\"NL Central Runs Allowed Comparison ({})\".format(year))\n",
    "plt.legend(loc='lower right')"
   ]
  },
  {
   "cell_type": "markdown",
   "metadata": {},
   "source": [
    "### Graphing Total Home Attendance\n",
    "For fun, we take a look at each teams total home attendance throughout the season."
   ]
  },
  {
   "cell_type": "markdown",
   "metadata": {},
   "source": [
    "First we get each teams total home_attendance-to-date"
   ]
  },
  {
   "cell_type": "code",
   "execution_count": 16,
   "metadata": {},
   "outputs": [],
   "source": [
    "brewers['Total_Home_Attendance'] = brewers[brewers['Home_Away'] == 'Home']['Attendance'].dropna().cumsum()\n",
    "cubs['Total_Home_Attendance'] = cubs[cubs['Home_Away'] == 'Home']['Attendance'].dropna().cumsum()\n",
    "cardinals['Total_Home_Attendance'] = cardinals[cardinals['Home_Away'] == 'Home']['Attendance'].dropna().cumsum()\n",
    "pirates['Total_Home_Attendance'] = pirates[pirates['Home_Away'] == 'Home']['Attendance'].dropna().cumsum()\n",
    "reds['Total_Home_Attendance'] = reds[reds['Home_Away'] == 'Home']['Attendance'].dropna().cumsum()"
   ]
  },
  {
   "cell_type": "markdown",
   "metadata": {},
   "source": [
    "#### What the Graph Shows\n",
    "The Reds and Pirates saw dramatically less people come to the ballpark compared to the rest of the division, with the Pirates coming in last despite the poor performance in Cincinnati. That performance is having an effect as the Reds attendance is trending down.\n",
    "\n",
    "The Cubs are also beating out the Brewers. Given Miller Park's capacity (41,900) and Wrigley Field's Capacity (41,649), this seems to show a greater interest from Cubs fans than Brewers fans. Of course, Chicago is the bigger city.\n",
    "\n",
    "The Cardinals come in first in attendance. This may be caused by Busch Stadium's slightly larger capacity of 49,676, though St. Louis also has the fewest home games at this point in the season."
   ]
  },
  {
   "cell_type": "code",
   "execution_count": 17,
   "metadata": {},
   "outputs": [
    {
     "data": {
      "text/plain": [
       "<matplotlib.legend.Legend at 0x7f80c8924700>"
      ]
     },
     "execution_count": 17,
     "metadata": {},
     "output_type": "execute_result"
    },
    {
     "data": {
      "image/png": "[encoded data removed]",
      "text/plain": [
       "<Figure size 576x576 with 1 Axes>"
      ]
     },
     "metadata": {
      "needs_background": "light"
     },
     "output_type": "display_data"
    }
   ],
   "source": [
    "# Graph Total Home Attendance Comparison #\n",
    "plt.rcParams[\"figure.figsize\"] = (8,8)\n",
    "\n",
    "# Create new Series for home attendance #\n",
    "brewers_attendance = brewers['Total_Home_Attendance'].dropna()\n",
    "brewers_attendance.index = range(len(brewers_attendance))\n",
    "\n",
    "cardinals_attendance = cardinals['Total_Home_Attendance'].dropna()\n",
    "cardinals_attendance.index = range(len(cardinals_attendance))\n",
    "\n",
    "cubs_attendance = cubs['Total_Home_Attendance'].dropna()\n",
    "cubs_attendance.index = range(len(cubs_attendance))\n",
    "\n",
    "pirates_attendance = pirates['Total_Home_Attendance'].dropna()\n",
    "pirates_attendance.index = range(len(pirates_attendance))\n",
    "\n",
    "reds_attendance = reds['Total_Home_Attendance'].dropna()\n",
    "reds_attendance.index = range(len(reds_attendance))\n",
    "\n",
    "plt.plot(brewers_attendance, label='Brewers', c='navy')\n",
    "plt.plot(cardinals_attendance, label='Cardinals', c='#b30000')\n",
    "plt.plot(cubs_attendance, label='Cubs', c='blue')\n",
    "plt.plot(pirates_attendance, label='Pirates', c='gold')\n",
    "plt.plot(reds_attendance, label='Reds', c='red')\n",
    "\n",
    "plt.xlabel('Game')\n",
    "plt.ylabel('Total Season Attendance')\n",
    "\n",
    "plt.title(\"NL Central Total Home Attendance Comparison ({})\".format(year))\n",
    "plt.legend(loc='lower right')"
   ]
  }
 ],
 "metadata": {
  "interpreter": {
   "hash": "58925f47c368e6fa628f007b16ca5e4992ef67e69d0cac4dba99be7542f25e2f"
  },
  "kernelspec": {
   "display_name": "visionattack",
   "language": "python",
   "name": "python3"
  },
  "language_info": {
   "codemirror_mode": {
    "name": "ipython",
    "version": 3
   },
   "file_extension": ".py",
   "mimetype": "text/x-python",
   "name": "python",
   "nbconvert_exporter": "python",
   "pygments_lexer": "ipython3",
   "version": "3.8.8"
  }
 },
 "nbformat": 4,
 "nbformat_minor": 2
}
